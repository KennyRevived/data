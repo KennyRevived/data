{
  "cells": [
    {
      "cell_type": "markdown",
      "metadata": {
        "id": "KXe6addTSI3n"
      },
      "source": [
        "\n",
        "# Control Flow"
      ]
    },
    {
      "cell_type": "markdown",
      "metadata": {
        "id": "Ag-5Ud7_SI3v"
      },
      "source": [
        "### Comparision Operators"
      ]
    },
    {
      "cell_type": "code",
      "execution_count": null,
      "metadata": {
        "id": "SIOg_wjESI3v",
        "outputId": "8206679c-c315-4a97-848e-914a516b3270"
      },
      "outputs": [
        {
          "data": {
            "text/plain": [
              "False"
            ]
          },
          "execution_count": 1,
          "metadata": {},
          "output_type": "execute_result"
        }
      ],
      "source": [
        "1 > 2"
      ]
    },
    {
      "cell_type": "code",
      "execution_count": null,
      "metadata": {
        "id": "TQEa10lCSI3y",
        "outputId": "fee4ae2a-2fc0-407c-aff8-47dfdbb1bdb8"
      },
      "outputs": [
        {
          "data": {
            "text/plain": [
              "True"
            ]
          },
          "execution_count": 3,
          "metadata": {},
          "output_type": "execute_result"
        }
      ],
      "source": [
        "1 < 2"
      ]
    },
    {
      "cell_type": "code",
      "execution_count": null,
      "metadata": {
        "id": "47YRQoEDSI3-",
        "outputId": "0171f171-94f8-4ed8-e32d-032d87bd5389"
      },
      "outputs": [
        {
          "data": {
            "text/plain": [
              "True"
            ]
          },
          "execution_count": 4,
          "metadata": {},
          "output_type": "execute_result"
        }
      ],
      "source": [
        "2 <= 2"
      ]
    },
    {
      "cell_type": "code",
      "source": [
        "1 >= 2"
      ],
      "metadata": {
        "colab": {
          "base_uri": "https://localhost:8080/"
        },
        "id": "Bpixhk2cS9vK",
        "outputId": "1b91d217-8bcd-43e2-e3d3-7d9def220f6b"
      },
      "execution_count": null,
      "outputs": [
        {
          "output_type": "execute_result",
          "data": {
            "text/plain": [
              "False"
            ]
          },
          "metadata": {},
          "execution_count": 1
        }
      ]
    },
    {
      "cell_type": "code",
      "execution_count": null,
      "metadata": {
        "id": "T3BQT97WSI3_",
        "outputId": "566b373e-2dde-47c3-c957-6600b6329b97"
      },
      "outputs": [
        {
          "data": {
            "text/plain": [
              "True"
            ]
          },
          "execution_count": 5,
          "metadata": {},
          "output_type": "execute_result"
        }
      ],
      "source": [
        "1 != 0"
      ]
    },
    {
      "cell_type": "code",
      "execution_count": null,
      "metadata": {
        "id": "uckArNjHSI4A",
        "outputId": "be674086-8cda-48fe-f41f-fd2bf67d7e8e"
      },
      "outputs": [
        {
          "data": {
            "text/plain": [
              "False"
            ]
          },
          "execution_count": 7,
          "metadata": {},
          "output_type": "execute_result"
        }
      ],
      "source": [
        "2 == '2'"
      ]
    },
    {
      "cell_type": "code",
      "execution_count": null,
      "metadata": {
        "id": "IOEdhMV-SI4B",
        "outputId": "c4419b96-cc02-4fd0-8a5d-55cdb1a8be8a"
      },
      "outputs": [
        {
          "data": {
            "text/plain": [
              "True"
            ]
          },
          "execution_count": 8,
          "metadata": {},
          "output_type": "execute_result"
        }
      ],
      "source": [
        "1 == 1"
      ]
    },
    {
      "cell_type": "markdown",
      "metadata": {
        "id": "QiRoMHJeSI4B"
      },
      "source": [
        "Logical Operators"
      ]
    },
    {
      "cell_type": "code",
      "execution_count": null,
      "metadata": {
        "id": "p-tpNu1BSI4C",
        "outputId": "d0e2f699-5df9-414c-c39c-6dab3be24fdf"
      },
      "outputs": [
        {
          "data": {
            "text/plain": [
              "True"
            ]
          },
          "execution_count": 9,
          "metadata": {},
          "output_type": "execute_result"
        }
      ],
      "source": [
        "1 < 2 and 2 < 3"
      ]
    },
    {
      "cell_type": "code",
      "execution_count": null,
      "metadata": {
        "id": "rhdhx4TuSI4D",
        "outputId": "5978c372-9ba3-493b-d112-780b02fef76c"
      },
      "outputs": [
        {
          "data": {
            "text/plain": [
              "False"
            ]
          },
          "execution_count": 10,
          "metadata": {},
          "output_type": "execute_result"
        }
      ],
      "source": [
        "1 < 2 and 3 < 2"
      ]
    },
    {
      "cell_type": "code",
      "execution_count": null,
      "metadata": {
        "id": "qlxIYEgISI4E",
        "outputId": "6df9b8df-bb9b-4907-d573-c84ef03743f0"
      },
      "outputs": [
        {
          "data": {
            "text/plain": [
              "True"
            ]
          },
          "execution_count": 11,
          "metadata": {},
          "output_type": "execute_result"
        }
      ],
      "source": [
        "1 < 2 or 2 > 3"
      ]
    },
    {
      "cell_type": "code",
      "execution_count": null,
      "metadata": {
        "id": "7ZO1QYMlSI4M",
        "outputId": "4957b803-4ff9-4cd7-e37b-c67397755742"
      },
      "outputs": [
        {
          "data": {
            "text/plain": [
              "False"
            ]
          },
          "execution_count": 12,
          "metadata": {},
          "output_type": "execute_result"
        }
      ],
      "source": [
        "1 > 2 or 5 < 4"
      ]
    },
    {
      "cell_type": "code",
      "execution_count": null,
      "metadata": {
        "id": "tNftLNuESI4N",
        "outputId": "ea99ee87-ae45-4934-c1c6-fbe6374cb51e"
      },
      "outputs": [
        {
          "data": {
            "text/plain": [
              "False"
            ]
          },
          "execution_count": 15,
          "metadata": {},
          "output_type": "execute_result"
        }
      ],
      "source": [
        "not (1 == 1)"
      ]
    },
    {
      "cell_type": "code",
      "execution_count": null,
      "metadata": {
        "id": "snu4gW_WSI4N",
        "outputId": "09fd4549-9049-459f-b136-146d29e55ef0"
      },
      "outputs": [
        {
          "data": {
            "text/plain": [
              "False"
            ]
          },
          "execution_count": 16,
          "metadata": {},
          "output_type": "execute_result"
        }
      ],
      "source": [
        "not True"
      ]
    },
    {
      "cell_type": "markdown",
      "metadata": {
        "id": "kovgQZy5SI4N"
      },
      "source": [
        "### if-else\n",
        "We can use if-else operator to execute a set of code if a given condition is true"
      ]
    },
    {
      "cell_type": "code",
      "execution_count": null,
      "metadata": {
        "id": "VtapWXuASI4O",
        "outputId": "85db5950-4fec-4873-a350-599e00c9f16b"
      },
      "outputs": [
        {
          "name": "stdout",
          "output_type": "stream",
          "text": [
            "I am here\n"
          ]
        }
      ],
      "source": [
        "if 10 < 100:\n",
        "    print('I am here')"
      ]
    },
    {
      "cell_type": "code",
      "execution_count": null,
      "metadata": {
        "id": "nClUWTLfSI4O",
        "outputId": "122a685c-5447-4538-9054-3581443c487e"
      },
      "outputs": [
        {
          "name": "stdout",
          "output_type": "stream",
          "text": [
            "I missed it\n"
          ]
        }
      ],
      "source": [
        "if 10 > 100:\n",
        "    print('I am here')\n",
        "else:\n",
        "    print('I missed it')"
      ]
    },
    {
      "cell_type": "code",
      "execution_count": null,
      "metadata": {
        "id": "BBFx9IABSI4O",
        "outputId": "22b05be8-797d-4b41-b1ac-7047a3197527"
      },
      "outputs": [
        {
          "name": "stdout",
          "output_type": "stream",
          "text": [
            "Negative\n"
          ]
        }
      ],
      "source": [
        "x = -1\n",
        "if x < 0:\n",
        "    print('Negative')\n",
        "elif x > 0:\n",
        "    print('Positive')\n",
        "else:\n",
        "    print('Zero')"
      ]
    },
    {
      "cell_type": "code",
      "execution_count": null,
      "metadata": {
        "id": "MPRvZH5FSI4O",
        "outputId": "85a131b6-729c-4f84-aaf8-b8c7345f9afa"
      },
      "outputs": [
        {
          "name": "stdout",
          "output_type": "stream",
          "text": [
            "I like maths\n"
          ]
        }
      ],
      "source": [
        "name = 'Maths'\n",
        "x = 90\n",
        "if name == 'Scince':\n",
        "    if x > 80:\n",
        "        print('I like science')\n",
        "    else :\n",
        "        print('I don\\'t like science')\n",
        "else:\n",
        "    if x > 70:\n",
        "        print('I like maths')\n",
        "    else:\n",
        "        print('I don\\'t like to study')"
      ]
    },
    {
      "cell_type": "markdown",
      "metadata": {
        "id": "wayWaTtySI4P"
      },
      "source": [
        "### For Loops"
      ]
    },
    {
      "cell_type": "markdown",
      "metadata": {
        "id": "EFdM1V_9SI4P"
      },
      "source": [
        "For loops are used to run a code block mulitple times.\n",
        "We can use for-loops with lists, strings or any range."
      ]
    },
    {
      "cell_type": "code",
      "execution_count": null,
      "metadata": {
        "id": "vGON-jnXSI4P",
        "outputId": "5f4d00d3-9cf5-43b1-c6a3-11e56d1a3909"
      },
      "outputs": [
        {
          "name": "stdout",
          "output_type": "stream",
          "text": [
            "1\n",
            "2\n",
            "3\n",
            "4\n"
          ]
        }
      ],
      "source": [
        "my_list = [1, 2, 3, 4]\n",
        "for n in my_list:\n",
        "    print(n)"
      ]
    },
    {
      "cell_type": "code",
      "execution_count": null,
      "metadata": {
        "id": "9Lj7JTnvSI4P",
        "outputId": "03904a62-f12f-4fcd-fdb4-fde4b9754265"
      },
      "outputs": [
        {
          "name": "stdout",
          "output_type": "stream",
          "text": [
            "I\n",
            "a\n",
            "m\n",
            "a\n",
            "s\n",
            "t\n",
            "r\n",
            "i\n",
            "n\n",
            "g\n"
          ]
        }
      ],
      "source": [
        "for s in 'I am a string':\n",
        "    if s != ' ':\n",
        "        print(s)"
      ]
    },
    {
      "cell_type": "markdown",
      "metadata": {
        "id": "OP4stQ5sSI4Q"
      },
      "source": [
        "One commonly used function with for-loop is *range()* function. range() has the following variations:\n",
        "* range(stop)\n",
        "* range(start,stop)\n",
        "* range(start,stop,step_size)"
      ]
    },
    {
      "cell_type": "code",
      "execution_count": null,
      "metadata": {
        "id": "AqBJfvYBSI4Q",
        "outputId": "8991093b-b37c-46ea-86a2-d95df8f8f687"
      },
      "outputs": [
        {
          "name": "stdout",
          "output_type": "stream",
          "text": [
            "45\n"
          ]
        }
      ],
      "source": [
        "sum = 0\n",
        "for i in range(10):\n",
        "    sum += i\n",
        "print(sum)"
      ]
    },
    {
      "cell_type": "code",
      "execution_count": null,
      "metadata": {
        "id": "Cx4JreLzSI4R",
        "outputId": "6e9f9175-60b5-4285-c942-a199db2308c3"
      },
      "outputs": [
        {
          "name": "stdout",
          "output_type": "stream",
          "text": [
            "35\n"
          ]
        }
      ],
      "source": [
        "sum = 0\n",
        "for i in range(5,10):\n",
        "    sum += i\n",
        "print(sum)"
      ]
    },
    {
      "cell_type": "code",
      "execution_count": null,
      "metadata": {
        "id": "_cnTD743SI4R",
        "outputId": "2b5ca990-2973-499d-d8e8-4eb670a1d53b"
      },
      "outputs": [
        {
          "name": "stdout",
          "output_type": "stream",
          "text": [
            "21\n"
          ]
        }
      ],
      "source": [
        "sum = 0\n",
        "for i in range(5,10,2):\n",
        "    sum += i\n",
        "print(sum)"
      ]
    },
    {
      "cell_type": "code",
      "execution_count": null,
      "metadata": {
        "id": "dyr0IcvnSI4R",
        "outputId": "fac32edf-9fdc-41c6-a1a4-1b57fa097fd5"
      },
      "outputs": [
        {
          "name": "stdout",
          "output_type": "stream",
          "text": [
            "x is 1\n",
            "y is 2\n",
            "z is 3\n"
          ]
        }
      ],
      "source": [
        "my_dict = {'x': 1, 'y': 2, 'z':3}\n",
        "for k in my_dict.keys():\n",
        "    print('{} is {}'.format(k, my_dict[k]))"
      ]
    },
    {
      "cell_type": "markdown",
      "source": [
        "### Nested Loops\n",
        "A nested loop is a loop inside of another loop.\n",
        "The inner loop will run at each interation of the outer loop."
      ],
      "metadata": {
        "id": "pU0qgWdQ2-_5"
      }
    },
    {
      "cell_type": "code",
      "source": [
        "# print all elements of a matrix\n",
        "\n",
        "matrix = [[1, 2, 3], [4, 5, 6], [7, 8, 9]]\n",
        "\n",
        "for row in matrix:\n",
        "    for element in row:\n",
        "        print(element, end=' ')\n",
        "    print()  # move to the next line after each row\n"
      ],
      "metadata": {
        "colab": {
          "base_uri": "https://localhost:8080/"
        },
        "id": "83q5Ydho6Yiq",
        "outputId": "72e4c880-b08f-4b8a-ad39-f8524485a8c7"
      },
      "execution_count": null,
      "outputs": [
        {
          "output_type": "stream",
          "name": "stdout",
          "text": [
            "1 2 3 \n",
            "4 5 6 \n",
            "7 8 9 \n"
          ]
        }
      ]
    },
    {
      "cell_type": "code",
      "source": [
        "# generate a multiplication table\n",
        "multiplication_table = []\n",
        "\n",
        "for i in range(1, 11):\n",
        "    row = []\n",
        "    for j in range(1, 11):\n",
        "        product = i * j\n",
        "        row.append(product)\n",
        "    multiplication_table.append(row)\n",
        "\n",
        "# printing the generated table\n",
        "for row in multiplication_table:\n",
        "    print(row)\n"
      ],
      "metadata": {
        "colab": {
          "base_uri": "https://localhost:8080/"
        },
        "id": "T1ScHArl84zK",
        "outputId": "ac509cc3-4635-4587-d67b-d5dad422a186"
      },
      "execution_count": null,
      "outputs": [
        {
          "output_type": "stream",
          "name": "stdout",
          "text": [
            "[1, 2, 3, 4, 5, 6, 7, 8, 9, 10]\n",
            "[2, 4, 6, 8, 10, 12, 14, 16, 18, 20]\n",
            "[3, 6, 9, 12, 15, 18, 21, 24, 27, 30]\n",
            "[4, 8, 12, 16, 20, 24, 28, 32, 36, 40]\n",
            "[5, 10, 15, 20, 25, 30, 35, 40, 45, 50]\n",
            "[6, 12, 18, 24, 30, 36, 42, 48, 54, 60]\n",
            "[7, 14, 21, 28, 35, 42, 49, 56, 63, 70]\n",
            "[8, 16, 24, 32, 40, 48, 56, 64, 72, 80]\n",
            "[9, 18, 27, 36, 45, 54, 63, 72, 81, 90]\n",
            "[10, 20, 30, 40, 50, 60, 70, 80, 90, 100]\n"
          ]
        }
      ]
    },
    {
      "cell_type": "code",
      "source": [
        "# pattern printing\n",
        "for i in range(5):\n",
        "    for j in range(i + 1):\n",
        "        print('*', end=' ')\n",
        "    print()\n"
      ],
      "metadata": {
        "colab": {
          "base_uri": "https://localhost:8080/"
        },
        "id": "dGm5b7pA7iM-",
        "outputId": "1e47ed67-00e9-4511-b029-28cd72f39d2d"
      },
      "execution_count": null,
      "outputs": [
        {
          "output_type": "stream",
          "name": "stdout",
          "text": [
            "* \n",
            "* * \n",
            "* * * \n",
            "* * * * \n",
            "* * * * * \n"
          ]
        }
      ]
    },
    {
      "cell_type": "markdown",
      "metadata": {
        "id": "C0eT1n-aSI4S"
      },
      "source": [
        "### While loop"
      ]
    },
    {
      "cell_type": "markdown",
      "metadata": {
        "id": "FNdyKOuISI4S"
      },
      "source": [
        "While loop runs a code block as long as a given condition is met."
      ]
    },
    {
      "cell_type": "code",
      "execution_count": null,
      "metadata": {
        "id": "cBypcTLJSI4U",
        "outputId": "9b1bdaae-824f-4615-bd15-9eff312e1b7f"
      },
      "outputs": [
        {
          "name": "stdout",
          "output_type": "stream",
          "text": [
            "1\n",
            "3\n",
            "5\n",
            "7\n",
            "9\n"
          ]
        }
      ],
      "source": [
        "# print all odd numbers between 1-10\n",
        "i = 1\n",
        "while i < 10:\n",
        "    print(i)\n",
        "    i += 2\n"
      ]
    },
    {
      "cell_type": "code",
      "execution_count": null,
      "metadata": {
        "id": "TyqjygYzSI4U",
        "outputId": "ee6be195-55e1-44ed-fa46-452e2dd6157a",
        "colab": {
          "base_uri": "https://localhost:8080/"
        }
      },
      "outputs": [
        {
          "output_type": "stream",
          "name": "stdout",
          "text": [
            "40\n",
            "30\n",
            "20\n",
            "10\n"
          ]
        }
      ],
      "source": [
        "# print all elements of a list in reverse order\n",
        "nums = [10, 20 ,30 ,40]\n",
        "while len(nums) > 0:\n",
        "    print(nums.pop())"
      ]
    },
    {
      "cell_type": "code",
      "source": [
        "# create a list with the squares of numbers from 1 to 10\n",
        "power_list = []\n",
        "i = 1\n",
        "while i <= 10:\n",
        "  power_list.append(i**2)\n",
        "  i += 1\n",
        "\n",
        "print(power_list)"
      ],
      "metadata": {
        "colab": {
          "base_uri": "https://localhost:8080/"
        },
        "id": "8ZHC_JP5jW8P",
        "outputId": "e77ab54a-9a76-4f16-c8e5-005448513d1c"
      },
      "execution_count": null,
      "outputs": [
        {
          "output_type": "stream",
          "name": "stdout",
          "text": [
            "[1, 4, 9, 16, 25, 36, 49, 64, 81, 100]\n"
          ]
        }
      ]
    },
    {
      "cell_type": "code",
      "source": [
        "# count number of 0 in a list\n",
        "c = 0\n",
        "i = 0\n",
        "my_list = [1, 2, 3, 0, 4, 0]\n",
        "while i < len(my_list):\n",
        "    if my_list[i] == 0:\n",
        "      c += 1\n",
        "    i += 1\n",
        "\n",
        "print(c)"
      ],
      "metadata": {
        "colab": {
          "base_uri": "https://localhost:8080/"
        },
        "id": "mtG25kxDufnF",
        "outputId": "3b54d926-c78f-4db1-d26e-d902b71767d0"
      },
      "execution_count": null,
      "outputs": [
        {
          "output_type": "stream",
          "name": "stdout",
          "text": [
            "2\n"
          ]
        }
      ]
    },
    {
      "cell_type": "markdown",
      "metadata": {
        "id": "bHEVzTr5SI4U"
      },
      "source": [
        "# Excercise\n",
        "1. Write a code to check if a number is odd or even.\n",
        "2. Create a list with the numbers 1-10, using for loop.\n",
        "3. Print only even numbers from above list.\n",
        "4. Print only numbers at odd index from the list from Q2.\n",
        "5. Reverse the list from Q2, using for loop.\n",
        "6. Find the marks for grades in list [67, 83, 45, 78, 32] based on the below conditions:\n",
        "> Below 45 - D <br>\n",
        "> 45 to 60 - C <br>\n",
        "> 60 to 75 - B <br>\n",
        "> Above 75 - A <br>\n",
        "7. Find the factorial of a given number (Factorial of n is 1x2x3....xn ).\n",
        "8. Check if a number is a prime number.\n",
        "9. Print individual digits of a number.\n",
        "10. Print the following:\n",
        "> 1 <br>\n",
        "> 1 2 <br>\n",
        "> 1 2 3 <br>\n",
        "> 1 2 3 4 <br>\n",
        "> 1 2 3 4 5 <br>\n",
        "11. Print all combinations of fruits and colors from the following lists, using nested loops.\n",
        ">fruits = [\"apple\", \"banana\", \"cherry\"] <br>\n",
        ">colors = [\"red\", \"yellow\", \"purple\"]\n"
      ]
    },
    {
      "cell_type": "markdown",
      "metadata": {
        "id": "Si1m0LgpSI4V"
      },
      "source": [
        "# Solution"
      ]
    },
    {
      "cell_type": "code",
      "execution_count": null,
      "metadata": {
        "id": "J3B9jnRpSI4V",
        "outputId": "912fe44f-f3ec-4c2f-a51d-43bbdac827ff"
      },
      "outputs": [
        {
          "name": "stdout",
          "output_type": "stream",
          "text": [
            "10 is even\n"
          ]
        }
      ],
      "source": [
        "# Excercise 1\n",
        "x = 10\n",
        "\n",
        "if x % 2 == 0:\n",
        "    print('{} is even'.format(x))\n",
        "else:\n",
        "    print('{} is odd'.format(x))"
      ]
    },
    {
      "cell_type": "code",
      "execution_count": 1,
      "metadata": {
        "colab": {
          "base_uri": "https://localhost:8080/"
        },
        "id": "44rg1tpNSI4W",
        "outputId": "3d75bac6-24e2-4dbd-d845-c689b2a44122"
      },
      "outputs": [
        {
          "output_type": "stream",
          "name": "stdout",
          "text": [
            "[1, 2, 3, 4, 5, 6, 7, 8, 9, 10]\n"
          ]
        }
      ],
      "source": [
        "# Excercise 2\n",
        "my_nums = []\n",
        "for i in range(1,11):\n",
        "    my_nums.append(i)\n",
        "print(my_nums)"
      ]
    },
    {
      "cell_type": "code",
      "execution_count": null,
      "metadata": {
        "id": "UAHm9UgtSI4W",
        "outputId": "25b2246a-43dc-49b6-a103-fdc5a756a01e"
      },
      "outputs": [
        {
          "name": "stdout",
          "output_type": "stream",
          "text": [
            "2\n",
            "4\n",
            "6\n",
            "8\n",
            "10\n"
          ]
        }
      ],
      "source": [
        "# Excercise 3\n",
        "for n in my_nums:\n",
        "    if n % 2 == 0:\n",
        "        print(n)"
      ]
    },
    {
      "cell_type": "code",
      "execution_count": 3,
      "metadata": {
        "id": "SMuQRBjaSI4Z",
        "outputId": "d0537701-1a55-44e6-88c9-760b0552793a",
        "colab": {
          "base_uri": "https://localhost:8080/"
        }
      },
      "outputs": [
        {
          "output_type": "stream",
          "name": "stdout",
          "text": [
            "2\n",
            "4\n",
            "6\n",
            "8\n",
            "10\n"
          ]
        }
      ],
      "source": [
        "# Excercise 4\n",
        "l = len(my_nums)\n",
        "for n in range(1,l,2):\n",
        "        print(my_nums[n])"
      ]
    },
    {
      "cell_type": "code",
      "execution_count": null,
      "metadata": {
        "id": "pSQ5BTfKSI4a",
        "outputId": "0d8cf8fb-909f-432b-ac1e-99ea3fdcb17e"
      },
      "outputs": [
        {
          "data": {
            "text/plain": [
              "[10, 9, 8, 7, 6, 5, 4, 3, 2, 1]"
            ]
          },
          "execution_count": 11,
          "metadata": {},
          "output_type": "execute_result"
        }
      ],
      "source": [
        "# Excercise 5\n",
        "rev_list = []\n",
        "x = len(my_nums) - 1\n",
        "for n in range(x,-1,-1):\n",
        "    rev_list.append(my_nums[n])\n",
        "rev_list"
      ]
    },
    {
      "cell_type": "code",
      "execution_count": null,
      "metadata": {
        "id": "tktze8wwSI4a",
        "outputId": "62a2bcea-09c4-4f8e-9d76-04bb131e3c66",
        "colab": {
          "base_uri": "https://localhost:8080/"
        }
      },
      "outputs": [
        {
          "output_type": "stream",
          "name": "stdout",
          "text": [
            "67 : B\n",
            "83 : A\n",
            "45 : C\n",
            "78 : A\n",
            "32 : D\n"
          ]
        }
      ],
      "source": [
        "# Excercise 6\n",
        "my_list = [67, 83, 45, 78, 32]\n",
        "for m in my_list:\n",
        "    if m < 45:\n",
        "        print('{} : D'.format(m))\n",
        "    elif 45 <= m and m < 60:\n",
        "        print('{} : C'.format(m))\n",
        "    elif 60 <= m and m < 75:\n",
        "        print('{} : B'.format(m))\n",
        "    else:\n",
        "        print('{} : A'.format(m))"
      ]
    },
    {
      "cell_type": "code",
      "execution_count": null,
      "metadata": {
        "id": "N5NLj_YUSI4a",
        "outputId": "6d53f776-f14d-4fff-c5c1-6e2267c48f98",
        "colab": {
          "base_uri": "https://localhost:8080/"
        }
      },
      "outputs": [
        {
          "output_type": "stream",
          "name": "stdout",
          "text": [
            "3628800\n"
          ]
        }
      ],
      "source": [
        "# Excercise 7\n",
        "n = 10\n",
        "f = 1\n",
        "for n in range(1,n+1):\n",
        "    f = f * n\n",
        "print(f)"
      ]
    },
    {
      "cell_type": "code",
      "execution_count": null,
      "metadata": {
        "id": "b6d9PvNFSI4b",
        "outputId": "b8344a69-722b-47cd-c57b-d792821e5208"
      },
      "outputs": [
        {
          "name": "stdout",
          "output_type": "stream",
          "text": [
            "Prime\n",
            "362880\n"
          ]
        }
      ],
      "source": [
        "# Excercise 8\n",
        "n = 7\n",
        "flag = 1\n",
        "for i in range(2,n):\n",
        "    if n % i == 0:\n",
        "        flag = 0\n",
        "if flag == 1:\n",
        "    print('Prime')\n",
        "else:\n",
        "    print('Not Prime')\n",
        "print(f)\n"
      ]
    },
    {
      "cell_type": "code",
      "execution_count": null,
      "metadata": {
        "id": "pwost8N-SI4b",
        "outputId": "4cb2f6db-3e50-4a76-a01c-09efcb5e0a65",
        "colab": {
          "base_uri": "https://localhost:8080/"
        }
      },
      "outputs": [
        {
          "output_type": "stream",
          "name": "stdout",
          "text": [
            "7\n",
            "5\n",
            "3\n",
            "2\n"
          ]
        }
      ],
      "source": [
        "# Excercise 9\n",
        "n =2357\n",
        "while n > 0:\n",
        "    print(n%10)\n",
        "    n = n//10\n"
      ]
    },
    {
      "cell_type": "code",
      "execution_count": null,
      "metadata": {
        "id": "WNj5n44LSI4b",
        "outputId": "25a7372e-a50c-487a-e8fa-49f2fedeb4ab"
      },
      "outputs": [
        {
          "name": "stdout",
          "output_type": "stream",
          "text": [
            "1 \n",
            "1 2 \n",
            "1 2 3 \n",
            "1 2 3 4 \n",
            "1 2 3 4 5 \n"
          ]
        }
      ],
      "source": [
        "# Excercise 10\n",
        "\n",
        "for i in range(1,6):\n",
        "    for j in range(1,i+1):\n",
        "        print(j, end=' ')\n",
        "    print('')"
      ]
    },
    {
      "cell_type": "code",
      "source": [
        "# Excercise 11\n",
        "\n",
        "fruits = [\"apple\", \"banana\", \"cherry\"]\n",
        "colors = [\"red\", \"yellow\", \"purple\"]\n",
        "\n",
        "for fruit in fruits:\n",
        "    for color in colors:\n",
        "        print(fruit, color)\n"
      ],
      "metadata": {
        "colab": {
          "base_uri": "https://localhost:8080/"
        },
        "id": "AmNkDYrcwdnu",
        "outputId": "01b56d73-0a1b-4f58-e18e-6d5c3391ac2e"
      },
      "execution_count": null,
      "outputs": [
        {
          "output_type": "stream",
          "name": "stdout",
          "text": [
            "apple red\n",
            "apple yellow\n",
            "apple purple\n",
            "banana red\n",
            "banana yellow\n",
            "banana purple\n",
            "cherry red\n",
            "cherry yellow\n",
            "cherry purple\n"
          ]
        }
      ]
    }
  ],
  "metadata": {
    "kernelspec": {
      "display_name": "Python 3",
      "language": "python",
      "name": "python3"
    },
    "language_info": {
      "codemirror_mode": {
        "name": "ipython",
        "version": 3
      },
      "file_extension": ".py",
      "mimetype": "text/x-python",
      "name": "python",
      "nbconvert_exporter": "python",
      "pygments_lexer": "ipython3",
      "version": "3.9.7"
    },
    "orig_nbformat": 4,
    "vscode": {
      "interpreter": {
        "hash": "c882e5d6e705582f7d54725352ba2115957f6b1b48e8d4f226855e2a55288761"
      }
    },
    "colab": {
      "provenance": []
    }
  },
  "nbformat": 4,
  "nbformat_minor": 0
}