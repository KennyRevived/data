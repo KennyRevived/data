{
  "cells": [
    {
      "cell_type": "markdown",
      "metadata": {
        "id": "gnSMUKnlIOk5"
      },
      "source": [
        "# Tuples"
      ]
    },
    {
      "cell_type": "markdown",
      "metadata": {
        "id": "3ox0dqVKIOk-"
      },
      "source": [
        "Tuples are ordered immutable sequence of elements."
      ]
    },
    {
      "cell_type": "code",
      "execution_count": null,
      "metadata": {
        "id": "rLySX0QvIOk-"
      },
      "outputs": [],
      "source": [
        "# Create a tuple\n",
        "my_tuple = (1,2,3)\n",
        "another_tuple = tuple(['a','b','c'])\n",
        "new_tuple = 'x','y','z'"
      ]
    },
    {
      "cell_type": "markdown",
      "metadata": {
        "id": "H5LiNpvcIOlA"
      },
      "source": [
        "Tuples have methods and operations similar to other sequences"
      ]
    },
    {
      "cell_type": "code",
      "execution_count": null,
      "metadata": {
        "id": "6GCmXt75IOlA"
      },
      "outputs": [],
      "source": [
        "tup = ('apple', 'orange', 'grapes', 'banana')"
      ]
    },
    {
      "cell_type": "code",
      "execution_count": null,
      "metadata": {
        "colab": {
          "base_uri": "https://localhost:8080/"
        },
        "id": "Z3FOcmbyIOlB",
        "outputId": "773dd95f-c944-4d9d-b550-7151c6a9300c"
      },
      "outputs": [
        {
          "output_type": "execute_result",
          "data": {
            "text/plain": [
              "4"
            ]
          },
          "metadata": {},
          "execution_count": 6
        }
      ],
      "source": [
        "# len\n",
        "len(tup) # number of elements in tuple"
      ]
    },
    {
      "cell_type": "code",
      "execution_count": null,
      "metadata": {
        "colab": {
          "base_uri": "https://localhost:8080/"
        },
        "id": "MXUtvFCQIOlC",
        "outputId": "68549877-5231-40fa-d1c1-af393a2ff60b"
      },
      "outputs": [
        {
          "output_type": "stream",
          "name": "stdout",
          "text": [
            "apple\n",
            "orange\n"
          ]
        }
      ],
      "source": [
        "# min, max\n",
        "print(min(tup)) # smallest element\n",
        "print(max(tup)) # larget element"
      ]
    },
    {
      "cell_type": "code",
      "execution_count": null,
      "metadata": {
        "colab": {
          "base_uri": "https://localhost:8080/"
        },
        "id": "9S5Gwg11IOlC",
        "outputId": "0f542439-5e66-400f-bfdd-9183f416d629"
      },
      "outputs": [
        {
          "output_type": "execute_result",
          "data": {
            "text/plain": [
              "True"
            ]
          },
          "metadata": {},
          "execution_count": 11
        }
      ],
      "source": [
        "# in\n",
        "'apple' in tup # return true if element is found in tuple else return false"
      ]
    },
    {
      "cell_type": "code",
      "execution_count": null,
      "metadata": {
        "colab": {
          "base_uri": "https://localhost:8080/",
          "height": 35
        },
        "id": "NPTbmfsHIOlD",
        "outputId": "1cae943f-cbb6-4645-8e1f-cb3474802696"
      },
      "outputs": [
        {
          "output_type": "execute_result",
          "data": {
            "text/plain": [
              "'apple'"
            ],
            "application/vnd.google.colaboratory.intrinsic+json": {
              "type": "string"
            }
          },
          "metadata": {},
          "execution_count": 12
        }
      ],
      "source": [
        "# index\n",
        "tup[0]"
      ]
    },
    {
      "cell_type": "code",
      "execution_count": null,
      "metadata": {
        "colab": {
          "base_uri": "https://localhost:8080/"
        },
        "id": "6Nw079FJIOlD",
        "outputId": "02787ea2-8398-4678-c771-128e356c0e3d"
      },
      "outputs": [
        {
          "output_type": "execute_result",
          "data": {
            "text/plain": [
              "('orange', 'grapes')"
            ]
          },
          "metadata": {},
          "execution_count": 13
        }
      ],
      "source": [
        "# slicing\n",
        "tup[1:3]"
      ]
    },
    {
      "cell_type": "markdown",
      "metadata": {
        "id": "S3zaeGgGIOlE"
      },
      "source": [
        "Since tuples are immutable objects we can't change, add or remove any element from it"
      ]
    },
    {
      "cell_type": "code",
      "execution_count": null,
      "metadata": {
        "id": "8clpM81ZIOlE",
        "outputId": "03c88327-5785-4654-a01e-00d19665f545"
      },
      "outputs": [
        {
          "ename": "TypeError",
          "evalue": "'tuple' object does not support item assignment",
          "output_type": "error",
          "traceback": [
            "\u001b[1;31m---------------------------------------------------------------------------\u001b[0m",
            "\u001b[1;31mTypeError\u001b[0m                                 Traceback (most recent call last)",
            "Cell \u001b[1;32mIn[17], line 1\u001b[0m\n\u001b[1;32m----> 1\u001b[0m tup[\u001b[39m0\u001b[39;49m] \u001b[39m=\u001b[39m \u001b[39m'\u001b[39m\u001b[39mmango\u001b[39m\u001b[39m'\u001b[39m\n",
            "\u001b[1;31mTypeError\u001b[0m: 'tuple' object does not support item assignment"
          ]
        }
      ],
      "source": [
        "tup[0] = 'mango'"
      ]
    },
    {
      "cell_type": "code",
      "execution_count": null,
      "metadata": {
        "id": "prgTJiu9IOlE"
      },
      "outputs": [],
      "source": [
        "tup = ('mango', 'orange')"
      ]
    },
    {
      "cell_type": "markdown",
      "metadata": {
        "id": "fLbpxis8IOlF"
      },
      "source": [
        "We can assign the vlaues of a tuple to multiple variables as below"
      ]
    },
    {
      "cell_type": "code",
      "execution_count": null,
      "metadata": {
        "colab": {
          "base_uri": "https://localhost:8080/"
        },
        "id": "qo2pWKppIOlF",
        "outputId": "664c441e-fb4b-45f5-e9c8-308ab71f9c00"
      },
      "outputs": [
        {
          "output_type": "stream",
          "name": "stdout",
          "text": [
            "1\n",
            "2\n"
          ]
        }
      ],
      "source": [
        "a ,b = (1, 2)\n",
        "print(a)\n",
        "print(b)"
      ]
    },
    {
      "cell_type": "markdown",
      "metadata": {
        "id": "pWTR5eSsIOlF"
      },
      "source": [
        "Tuple can also we used to swap values between two variables"
      ]
    },
    {
      "cell_type": "code",
      "execution_count": null,
      "metadata": {
        "colab": {
          "base_uri": "https://localhost:8080/"
        },
        "id": "9gnybG_nIOlF",
        "outputId": "269a65fd-9503-4e29-920f-101ac8d5696a"
      },
      "outputs": [
        {
          "output_type": "stream",
          "name": "stdout",
          "text": [
            "1\n",
            "2\n"
          ]
        }
      ],
      "source": [
        "(x, y) = (b,a)\n",
        "print(x)\n",
        "print(y)"
      ]
    },
    {
      "cell_type": "markdown",
      "metadata": {
        "id": "ajpbTZy3IOlF"
      },
      "source": [
        "# Excercise\n",
        "1. Create a tuple *even_num* from the list [2, 3, 5, 7, 11, 3, 2, 12].\n",
        "2. Reverse the tuple even_num and save it to *new_tuple*.\n",
        "3. Find the index of the number 11 in the *new_tuple*.\n",
        "4. Sort the tuple *new_tuple*.\n",
        "5. From the *even_tuple*, extract the 2 largest values.\n",
        "6. Count the number of occurrences of each of the following elements: 1, 2, 3\n",
        "7. Assign the values of the tuple t = (1 , 2, 3)  to new variables x, y, z.\n",
        "8. From variable in above question assign the values of x to y, y to z and z to x.\n",
        "9. Create a tuple *list_tuple* of two lists [1,2] and [3,4].\n",
        "10. Modify the first element of *list_tuple* to be [0,1,2]."
      ]
    },
    {
      "cell_type": "markdown",
      "metadata": {
        "id": "vqUsJvrjIOlG"
      },
      "source": [
        "# Solution"
      ]
    },
    {
      "cell_type": "code",
      "execution_count": null,
      "metadata": {
        "id": "Chzs-tkGIOlG"
      },
      "outputs": [],
      "source": [
        "# Excercise 1\n",
        "even_num = tuple([2, 3, 5, 7, 11, 3, 2, 12])"
      ]
    },
    {
      "cell_type": "code",
      "execution_count": null,
      "metadata": {
        "colab": {
          "base_uri": "https://localhost:8080/"
        },
        "id": "_2lO5g3JIOlG",
        "outputId": "ce804796-72aa-4949-82a6-be2d67b565fe"
      },
      "outputs": [
        {
          "output_type": "stream",
          "name": "stdout",
          "text": [
            "(12, 2, 3, 11, 7, 5, 3, 2)\n"
          ]
        }
      ],
      "source": [
        "# Excercise 2\n",
        "new_tuple = even_num[::-1]\n",
        "print(new_tuple)"
      ]
    },
    {
      "cell_type": "code",
      "execution_count": null,
      "metadata": {
        "colab": {
          "base_uri": "https://localhost:8080/"
        },
        "id": "VgP0418kIOlH",
        "outputId": "c63cc3fc-1ffd-4734-87d0-3e331f304b69"
      },
      "outputs": [
        {
          "output_type": "execute_result",
          "data": {
            "text/plain": [
              "3"
            ]
          },
          "metadata": {},
          "execution_count": 3
        }
      ],
      "source": [
        "# Excercise 3\n",
        "new_tuple.index(11)"
      ]
    },
    {
      "cell_type": "code",
      "execution_count": null,
      "metadata": {
        "colab": {
          "base_uri": "https://localhost:8080/"
        },
        "id": "nraUW0vQIOlH",
        "outputId": "bb258010-cc39-48b2-e375-a55757e953ee"
      },
      "outputs": [
        {
          "output_type": "execute_result",
          "data": {
            "text/plain": [
              "[2, 2, 3, 3, 5, 7, 11, 12]"
            ]
          },
          "metadata": {},
          "execution_count": 4
        }
      ],
      "source": [
        "# Excercise 4\n",
        "sorted(new_tuple)\n"
      ]
    },
    {
      "cell_type": "code",
      "execution_count": null,
      "metadata": {
        "id": "Q7A8yY_OIOlH",
        "outputId": "29ee6396-3753-4777-a935-d619315a242d"
      },
      "outputs": [
        {
          "data": {
            "text/plain": [
              "[11, 12]"
            ]
          },
          "execution_count": 23,
          "metadata": {},
          "output_type": "execute_result"
        }
      ],
      "source": [
        "# Excercise 5\n",
        "sort_tuple = sorted(new_tuple)\n",
        "sort_tuple[-2::]"
      ]
    },
    {
      "cell_type": "code",
      "execution_count": null,
      "metadata": {
        "id": "gItfPLTbIOlH",
        "outputId": "f6b2d663-ee47-418e-94fc-9c75939e93a9"
      },
      "outputs": [
        {
          "name": "stdout",
          "output_type": "stream",
          "text": [
            "0\n",
            "2\n",
            "2\n"
          ]
        }
      ],
      "source": [
        "# Excercise 6\n",
        "print(new_tuple.count(1))\n",
        "print(new_tuple.count(2))\n",
        "print(new_tuple.count(3))"
      ]
    },
    {
      "cell_type": "code",
      "execution_count": 13,
      "metadata": {
        "colab": {
          "base_uri": "https://localhost:8080/"
        },
        "id": "sOg8YfPtIOlH",
        "outputId": "41beb62f-bf04-4418-fa7a-4a0325b04b56"
      },
      "outputs": [
        {
          "output_type": "stream",
          "name": "stdout",
          "text": [
            "1\n",
            "2\n",
            "3\n"
          ]
        }
      ],
      "source": [
        "# Excercise 7\n",
        "t = (1, 2, 3)\n",
        "x, y, z = t\n",
        "print(x)\n",
        "print(y)\n",
        "print(z)"
      ]
    },
    {
      "cell_type": "code",
      "execution_count": 14,
      "metadata": {
        "colab": {
          "base_uri": "https://localhost:8080/"
        },
        "id": "YC3Xzz1LIOlI",
        "outputId": "1c291e46-485b-46fc-e45f-157ca2220b3d"
      },
      "outputs": [
        {
          "output_type": "stream",
          "name": "stdout",
          "text": [
            "3\n",
            "1\n",
            "2\n"
          ]
        }
      ],
      "source": [
        "# Excercise 8\n",
        "x, y, z = z,x,y\n",
        "print(x)\n",
        "print(y)\n",
        "print(z)"
      ]
    },
    {
      "cell_type": "code",
      "execution_count": 1,
      "metadata": {
        "colab": {
          "base_uri": "https://localhost:8080/"
        },
        "id": "0X_2MrK0IOlI",
        "outputId": "9df07f5c-0153-4ec0-fc49-962332387a6e"
      },
      "outputs": [
        {
          "output_type": "execute_result",
          "data": {
            "text/plain": [
              "([1, 2], [3, 4])"
            ]
          },
          "metadata": {},
          "execution_count": 1
        }
      ],
      "source": [
        "# Excercise 9\n",
        "list_tuple = ([1,2], [3,4])\n",
        "list_tuple"
      ]
    },
    {
      "cell_type": "code",
      "source": [
        "# Excercise 10\n",
        "list_tuple[0][0:2] = [0,1,2]\n",
        "list_tuple"
      ],
      "metadata": {
        "colab": {
          "base_uri": "https://localhost:8080/"
        },
        "id": "R0n05_2J2tU5",
        "outputId": "3f0cce88-989b-443d-f08b-f065850adf6b"
      },
      "execution_count": 8,
      "outputs": [
        {
          "output_type": "execute_result",
          "data": {
            "text/plain": [
              "([0, 1, 2], [3, 4])"
            ]
          },
          "metadata": {},
          "execution_count": 8
        }
      ]
    }
  ],
  "metadata": {
    "kernelspec": {
      "display_name": "Python 3",
      "language": "python",
      "name": "python3"
    },
    "language_info": {
      "codemirror_mode": {
        "name": "ipython",
        "version": 3
      },
      "file_extension": ".py",
      "mimetype": "text/x-python",
      "name": "python",
      "nbconvert_exporter": "python",
      "pygments_lexer": "ipython3",
      "version": "3.9.7"
    },
    "orig_nbformat": 4,
    "vscode": {
      "interpreter": {
        "hash": "c882e5d6e705582f7d54725352ba2115957f6b1b48e8d4f226855e2a55288761"
      }
    },
    "colab": {
      "provenance": []
    }
  },
  "nbformat": 4,
  "nbformat_minor": 0
}